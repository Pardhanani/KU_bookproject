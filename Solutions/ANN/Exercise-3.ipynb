{
 "cells": [
  {
   "cell_type": "markdown",
   "id": "836eeac0",
   "metadata": {},
   "source": [
    "# Exercise 3\n",
    "Suppose we wanted to extend the “and” connective to 3 inputs, say x1 and x2 and x3.\n",
    "Describe a neural network strategy for modeling this."
   ]
  },
  {
   "cell_type": "markdown",
   "id": "107c9835",
   "metadata": {},
   "source": [
    "## Truth Table for the AND connective with 3 inputs\n",
    "| A | B | C | A ∧ B ∧ C |\n",
    "|---|---|---|:---------:|\n",
    "| 0 | 0 | 0 |    0     |\n",
    "| 0 | 0 | 1 |    0     |\n",
    "| 0 | 1 | 0 |    0     |\n",
    "| 0 | 1 | 1 |    0     |\n",
    "| 1 | 0 | 0 |    0     |\n",
    "| 1 | 0 | 1 |    0     |\n",
    "| 1 | 1 | 0 |    0     |\n",
    "| 1 | 1 | 1 |    1     |\n",
    "\n",
    "## Defining the model\n",
    "Let's assume the model is defined as `activation_func(A + B + C + bias)`\n",
    "\n",
    "## Identify a bias and activation_func\n",
    "| A | B | C | A ∧ B ∧ C | bias | (AND) + bias |\n",
    "|---|---|---|:---------:|------|--------------|\n",
    "| 0 | 0 | 0 |    0     |    1  |       1      |\n",
    "| 0 | 0 | 1 |    0     |    1  |       1      |\n",
    "| 0 | 1 | 0 |    0     |    1  |       1      |\n",
    "| 0 | 1 | 1 |    0     |    1  |       1      |\n",
    "| 1 | 0 | 0 |    0     |    1  |       1      |\n",
    "| 1 | 0 | 1 |    0     |    1  |       1      |\n",
    "| 1 | 1 | 0 |    0     |    1  |       1      |\n",
    "| 1 | 1 | 1 |    1     |    1  |       2      |\n",
    "\n",
    "Based on the above we can use a variation of the unit step function as an activation_func where act(v) = 1 if v> 1 else 0"
   ]
  },
  {
   "cell_type": "code",
   "execution_count": 3,
   "id": "4103171f",
   "metadata": {},
   "outputs": [],
   "source": [
    "import networkx as nx\n",
    "import matplotlib.pyplot as plt\n",
    "\n",
    "activation_func = lambda inp: 1 if inp > 1 else 0\n",
    "bias = 1\n",
    "model_defn = \"{0} + {1} + {2} + ({3})\"\n",
    "activation_func_defn = \"f({0}) = ({0} > 1)? 1 : 0\""
   ]
  },
  {
   "cell_type": "code",
   "execution_count": 4,
   "id": "1fa78f4a",
   "metadata": {},
   "outputs": [],
   "source": [
    "def neuron_and(*args) -> int:\n",
    "    _and_result = 1\n",
    "    for a in args:\n",
    "        _and_result *= a\n",
    "    neuron_output = _and_result + bias\n",
    "    return(activation_func(neuron_output))"
   ]
  },
  {
   "cell_type": "code",
   "execution_count": 6,
   "id": "ae32a1d9",
   "metadata": {},
   "outputs": [
    {
     "name": "stdout",
     "output_type": "stream",
     "text": [
      "0\n",
      "0\n",
      "0\n",
      "0\n",
      "0\n",
      "0\n",
      "0\n",
      "1\n"
     ]
    }
   ],
   "source": [
    "print(neuron_and(0,0,0))\n",
    "print(neuron_and(0,0,1))\n",
    "print(neuron_and(0,1,0))\n",
    "print(neuron_and(0,1,1))\n",
    "print(neuron_and(1,0,0))\n",
    "print(neuron_and(1,0,1))\n",
    "print(neuron_and(1,1,0))\n",
    "print(neuron_and(1,1,1))"
   ]
  }
 ],
 "metadata": {
  "kernelspec": {
   "display_name": "Python 3",
   "language": "python",
   "name": "python3"
  },
  "language_info": {
   "codemirror_mode": {
    "name": "ipython",
    "version": 3
   },
   "file_extension": ".py",
   "mimetype": "text/x-python",
   "name": "python",
   "nbconvert_exporter": "python",
   "pygments_lexer": "ipython3",
   "version": "3.9.6"
  }
 },
 "nbformat": 4,
 "nbformat_minor": 5
}
